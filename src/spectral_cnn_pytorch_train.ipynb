{
 "cells": [
  {
   "cell_type": "code",
   "execution_count": 1,
   "metadata": {},
   "outputs": [],
   "source": [
    "import numpy as np\n",
    "np.set_printoptions(precision=1)\n",
    "import matplotlib.pylab as plt\n",
    "import torch\n",
    "from modules.utils import load_cifar10\n",
    "from modules.cnn_with_spectral_parameterization import CNN_Spectral_Param\n",
    "from modules.cnn_with_spectral_pooling import CNN_Spectral_Pool\n",
    "from modules.cnn_all_spectral import Spectral_CNN\n",
    "\n",
    "import warnings\n",
    "warnings.filterwarnings('ignore')\n",
    "\n",
    "% matplotlib inline"
   ]
  },
  {
   "cell_type": "code",
   "execution_count": 2,
   "metadata": {},
   "outputs": [
    {
     "name": "stdout",
     "output_type": "stream",
     "text": [
      "file already downloaded..\n",
      "getting batch 1\n"
     ]
    }
   ],
   "source": [
    "# In the interest of training time, we only used 1 of 5 cifar10 batches\n",
    "# The important part of the experiment is to compare the rates of convergence of training accuracy,\n",
    "# so subsetting the training dataset for both spectral and spatial models shouldn't impact\n",
    "# the relationship between their train accuracy convergences\n",
    "traindata, testdata = load_cifar10(1, channels_last=False)"
   ]
  },
  {
   "cell_type": "code",
   "execution_count": 3,
   "metadata": {},
   "outputs": [
    {
     "name": "stdout",
     "output_type": "stream",
     "text": [
      "10000\n",
      "torch.Size([3, 32, 32])\n",
      "<class 'torch.FloatTensor'>\n"
     ]
    }
   ],
   "source": [
    "# Size of training set \n",
    "print(len(traindata))\n",
    "\n",
    "# Size of one training sample \n",
    "print(traindata[0][0].size()) \n",
    "\n",
    "# Datatype of training set \n",
    "print(type(traindata[0][0]))"
   ]
  },
  {
   "cell_type": "markdown",
   "metadata": {},
   "source": [
    "# Spectral Pooling Architecture - CPU / Numpy fft\n",
    "\n",
    "Very slow. "
   ]
  },
  {
   "cell_type": "code",
   "execution_count": null,
   "metadata": {},
   "outputs": [],
   "source": [
    "pool = CNN_Spectral_Pool(device_type='cpu')\n",
    "pool.train(traindata, epochs=3)"
   ]
  },
  {
   "cell_type": "markdown",
   "metadata": {},
   "source": [
    "# Spectral Pooling Architecture - GPU / Pytorch fft "
   ]
  },
  {
   "cell_type": "code",
   "execution_count": null,
   "metadata": {
    "collapsed": true
   },
   "outputs": [],
   "source": [
    "pool_cuda = CNN_Spectral_Pool(device_type='gpu')\n",
    "pool_cuda.train(traindata, epochs=3)"
   ]
  },
  {
   "cell_type": "markdown",
   "metadata": {},
   "source": [
    "# Spectral Parameterization - Generic Architecture "
   ]
  },
  {
   "cell_type": "code",
   "execution_count": 5,
   "metadata": {},
   "outputs": [
    {
     "name": "stdout",
     "output_type": "stream",
     "text": [
      "Epoch 0 Train Error: 0.9026\n",
      "Epoch 1 Train Error: 0.8637\n",
      "Epoch 2 Train Error: 0.8919\n",
      "Epoch 3 Train Error: 0.8966\n",
      "Epoch 4 Train Error: 0.8684\n"
     ]
    }
   ],
   "source": [
    "generic_spectral = CNN_Spectral_Param(architecture='generic', use_spectral_params=True, device_type='cpu')\n",
    "generic_spectral.train(traindata, epochs=5) "
   ]
  },
  {
   "cell_type": "code",
   "execution_count": 4,
   "metadata": {},
   "outputs": [
    {
     "name": "stdout",
     "output_type": "stream",
     "text": [
      "Epoch 0 Train Error: 0.7029\n",
      "Epoch 1 Train Error: 0.6975\n",
      "Epoch 2 Train Error: 0.6401\n",
      "Epoch 3 Train Error: 0.6028\n",
      "Epoch 4 Train Error: 0.5832\n",
      "Epoch 5 Train Error: 0.5623\n",
      "Epoch 6 Train Error: 0.5505\n",
      "Epoch 7 Train Error: 0.5369\n",
      "Epoch 8 Train Error: 0.5253\n",
      "Epoch 9 Train Error: 0.504\n"
     ]
    }
   ],
   "source": [
    "generic = CNN_Spectral_Param(architecture='generic', use_spectral_params=False, device_type='cpu') \n",
    "generic.train(traindata, epochs=10)"
   ]
  },
  {
   "cell_type": "markdown",
   "metadata": {},
   "source": [
    "# Spectral Parameterization - Deep Architecture \n",
    "\n",
    "\n",
    "Kernels will crash on CPU only device. Test on GPU only. "
   ]
  },
  {
   "cell_type": "code",
   "execution_count": null,
   "metadata": {},
   "outputs": [],
   "source": [
    "deep_spectral = CNN_Spectral_Param(architecture='deep', use_spectral_params=True, device_type='gpu')\n",
    "deep_spectral.train(traindata, epochs=5)"
   ]
  },
  {
   "cell_type": "code",
   "execution_count": null,
   "metadata": {},
   "outputs": [],
   "source": [
    "deep = CNN_Spectral_Param(architecture='deep', use_spectral_params=False, device_typ='gpu')\n",
    "deep.train(traindata, epochs=5)"
   ]
  },
  {
   "cell_type": "markdown",
   "metadata": {},
   "source": [
    "# Spectral Parameterization - Convolution Completely in Spectral Domain \n",
    "\n",
    "In the paper the authors initialize filters in the spectral domain, but then only use the real part to do convolution as usual. \n",
    "\n",
    "We can also test doing convolution completely in the spectral domain by using pointwise multiplication between a spectral filter and the input converted into the spectral domain. "
   ]
  },
  {
   "cell_type": "code",
   "execution_count": null,
   "metadata": {
    "collapsed": true
   },
   "outputs": [],
   "source": [
    "spectral_cnn = Spectral_CNN()\n",
    "spectral_cnn.train(traindata, epochs=5)"
   ]
  }
 ],
 "metadata": {
  "anaconda-cloud": {},
  "kernelspec": {
   "display_name": "Python 3",
   "language": "python",
   "name": "python3"
  },
  "language_info": {
   "codemirror_mode": {
    "name": "ipython",
    "version": 3
   },
   "file_extension": ".py",
   "mimetype": "text/x-python",
   "name": "python",
   "nbconvert_exporter": "python",
   "pygments_lexer": "ipython3",
   "version": "3.6.2"
  }
 },
 "nbformat": 4,
 "nbformat_minor": 1
}
